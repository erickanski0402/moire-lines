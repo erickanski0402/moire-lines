{
 "cells": [
  {
   "cell_type": "code",
   "execution_count": 1,
   "metadata": {
    "collapsed": true,
    "ExecuteTime": {
     "end_time": "2023-05-31T19:53:46.781857Z",
     "start_time": "2023-05-31T19:53:46.222619Z"
    }
   },
   "outputs": [],
   "source": [
    "import cv2 as cv\n",
    "import numpy as np\n",
    "\n",
    "from LoadImageData import makeDataMultiChannel, loadImageData\n",
    "from Constants import WAVELET_TRANSFORMED_DATA_PATH\n"
   ]
  },
  {
   "cell_type": "code",
   "execution_count": 2,
   "outputs": [
    {
     "name": "stdout",
     "output_type": "stream",
     "text": [
      "reading ./data/hqdefault.jpg into memory\n"
     ]
    }
   ],
   "source": [
    "testImage = './data/hqdefault.jpg'\n",
    "\n",
    "print(f'reading {testImage} into memory')\n",
    "img = cv.imread(testImage, cv.IMREAD_GRAYSCALE)\n",
    "imgArr = np.array([img, img, img, img, img])\n",
    "imgArr = np.reshape(imgArr, (imgArr.shape[0], imgArr.shape[1], imgArr.shape[2], 1))"
   ],
   "metadata": {
    "collapsed": false,
    "ExecuteTime": {
     "end_time": "2023-05-31T19:53:46.801294Z",
     "start_time": "2023-05-31T19:53:46.786090Z"
    }
   }
  },
  {
   "cell_type": "code",
   "execution_count": 3,
   "outputs": [
    {
     "name": "stdout",
     "output_type": "stream",
     "text": [
      "Loading pos-aa21ce11-9319-4d7d-bf02-91dc957ef830.jpg as #0\n",
      "Loading pos-e766de19-94f7-4b88-adfc-1c45e197a4e9.jpg as #50\n",
      "Loading pos-e20ac063-e2b4-45e3-b067-45c4ec74394c.jpg as #100\n",
      "Loading pos-8f72a534-9eb3-4966-af14-5a24da5b727d.jpg as #150\n"
     ]
    }
   ],
   "source": [
    "dataPath = WAVELET_TRANSFORMED_DATA_PATH\n",
    "X, y = loadImageData(dataPath)\n"
   ],
   "metadata": {
    "collapsed": false,
    "ExecuteTime": {
     "end_time": "2023-05-31T19:54:28.980113Z",
     "start_time": "2023-05-31T19:53:46.804118Z"
    }
   }
  },
  {
   "cell_type": "code",
   "execution_count": 4,
   "outputs": [
    {
     "data": {
      "text/plain": "(198, 400, 600, 3)"
     },
     "execution_count": 4,
     "metadata": {},
     "output_type": "execute_result"
    }
   ],
   "source": [
    "X.shape\n"
   ],
   "metadata": {
    "collapsed": false,
    "ExecuteTime": {
     "end_time": "2023-05-31T19:54:28.995551Z",
     "start_time": "2023-05-31T19:54:28.991798Z"
    }
   }
  }
 ],
 "metadata": {
  "kernelspec": {
   "display_name": "Python 3",
   "language": "python",
   "name": "python3"
  },
  "language_info": {
   "codemirror_mode": {
    "name": "ipython",
    "version": 2
   },
   "file_extension": ".py",
   "mimetype": "text/x-python",
   "name": "python",
   "nbconvert_exporter": "python",
   "pygments_lexer": "ipython2",
   "version": "2.7.6"
  }
 },
 "nbformat": 4,
 "nbformat_minor": 0
}
